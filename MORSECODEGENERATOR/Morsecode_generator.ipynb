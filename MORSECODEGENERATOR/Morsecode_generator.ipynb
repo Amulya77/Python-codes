{
  "nbformat": 4,
  "nbformat_minor": 0,
  "metadata": {
    "colab": {
      "provenance": []
    },
    "kernelspec": {
      "name": "python3",
      "display_name": "Python 3"
    },
    "language_info": {
      "name": "python"
    }
  },
  "cells": [
    {
      "cell_type": "code",
      "execution_count": 1,
      "metadata": {
        "colab": {
          "base_uri": "https://localhost:8080/"
        },
        "id": "yVOcMD0xww4i",
        "outputId": "f5896f79-e31d-4149-893d-13b6409b82c5"
      },
      "outputs": [
        {
          "output_type": "stream",
          "name": "stdout",
          "text": [
            "Welcome to the Morse code converter.\n",
            "\n",
            "Please enter the text to convert:\n",
            "> hi amulya\n",
            "Your input in morse code: •••• •• •— —— ••— •—•• —•—— •— \n",
            "Do you want to convert something else? (y/n)\n",
            "> n\n",
            "Goodbye.\n"
          ]
        }
      ],
      "source": [
        "MC_CHART = \"morse_code_chart.txt\"\n",
        "\n",
        "\n",
        "def load_chart():\n",
        "    \"\"\"Loads contents of the text file and returns a DICT.\"\"\"\n",
        "    with open(file=MC_CHART, mode=\"r\", encoding=\"utf-8\") as f:\n",
        "        # using dictionary comprehension\n",
        "        mc_dict = {line.split(\" \")[0]: line.split(\" \")[1].strip(\"\\n\") for line in f.readlines()}\n",
        "\n",
        "        # alternatively, this seems a little more readable\n",
        "        # for line in f:\n",
        "        #     key, val = line.strip(\"\\n\").split(\" \")\n",
        "        #     mc_dict[key] = val\n",
        "    return mc_dict\n",
        "\n",
        "\n",
        "def get_input():\n",
        "    \"\"\"Takes an input from the user and returns it as a STR.\"\"\"\n",
        "    while True:\n",
        "        print(\"Please enter the text to convert:\")\n",
        "        raw_input = input(\"> \").lower()\n",
        "\n",
        "        # make sure something was entered\n",
        "        if raw_input == \"\":\n",
        "            print(\"Please enter some text.\")\n",
        "        else:\n",
        "            return raw_input\n",
        "\n",
        "\n",
        "def main():\n",
        "    # load the chart into a dict\n",
        "    morse_chart = load_chart()\n",
        "    print(\"Welcome to the Morse code converter.\\n\")\n",
        "\n",
        "    while True:\n",
        "        # get input from the user\n",
        "        input_text = get_input()\n",
        "        converted_text = \"\"\n",
        "\n",
        "        # process characters\n",
        "        for char in input_text:\n",
        "            # only add valid convertible characters, ignore everything else\n",
        "            if char in morse_chart:\n",
        "                # add a space after each character\n",
        "                converted_text += morse_chart[char] + \" \"\n",
        "\n",
        "        # check for empty output\n",
        "        if len(converted_text) > 0:\n",
        "            print(f\"Your input in morse code: {converted_text}\")\n",
        "        else:\n",
        "            print(\"The input did not contain any convertible character.\")\n",
        "\n",
        "        # condition to break out of the loop\n",
        "        print(\"Do you want to convert something else? (y/n)\")\n",
        "        if input(\"> \").lower() == \"n\":\n",
        "            break\n",
        "\n",
        "    print(\"Goodbye.\")\n",
        "\n",
        "\n",
        "if __name__ == \"__main__\":\n",
        "    main()"
      ]
    }
  ]
}